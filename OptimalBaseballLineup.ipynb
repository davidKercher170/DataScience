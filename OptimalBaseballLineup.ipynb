{
 "cells": [
  {
   "cell_type": "markdown",
   "metadata": {},
   "source": [
    "#### 3 The Mariners.\n",
    "\n",
    "\n",
    "(3) Using the MLB averages is not the best way to replace nan values. A Markov chain should have rows sum to 1. However by replace these rows with the mlb average our Matrix no longer has the Markov Properties. One possible fix is to just replace these values with 0 (which is what I did in part 1). Alternatively we could update it with their percentage for single, double, or triple with a different number of outs (and if that doesn't work a different number of base runners). Another idea would be to just update with their averages for a single, double, or triple overall.\n",
    "\n",
    "\n",
    "(4-6) I'm rather confused how the file runs.csv has negative values, since you can't have negative runs in baseball. However the results were mostly as expected:\n",
    "\n",
    "(Lineup1, Lineup2) = (7.64, 8.55)\n",
    "\n",
    "We expected Lineup 2 to have a higher average than Lineup 1. However at first glance these numbers seem inflated, an average of 8.56 runs per game would be amazing in the game of baseball!"
   ]
  },
  {
   "cell_type": "markdown",
   "metadata": {},
   "source": [
    "#### PART 1 CODE"
   ]
  },
  {
   "cell_type": "code",
   "execution_count": 245,
   "metadata": {},
   "outputs": [
    {
     "name": "stdout",
     "output_type": "stream",
     "text": [
      "Invalid:  batter\n"
     ]
    }
   ],
   "source": [
    "import numpy as np\n",
    "import csv\n",
    "\n",
    "times = []\n",
    "b = []\n",
    " \n",
    "# Transition Matrix: There are 25 Possible States: 8 Possible variations of runners on base with possible outs of 0, 1, or 2. Giving 24 states.\n",
    "# There is one additional state for 3 outs (runners on base will always be 000 since the inning is over)\n",
    "G1 = np.zeros((24,25)) # Gorden Transition\n",
    "G2 = np.zeros((24,25)) # Gamel Transition\n",
    "\n",
    "def state(s):\n",
    "    s = s.split(\" \")\n",
    "    r = s[0] # base runners\n",
    "\n",
    "    # return state 25, if there are 3 outs\n",
    "    if r[0] == '3':\n",
    "        return 24\n",
    "\n",
    "    n_outs = int(s[1])\n",
    "    # value for base runners element of [0,7]\n",
    "    b_val = int(r[0]) + int(r[1])*2 + int(r[2])*4\n",
    "\n",
    "    # 0 outs : (0,7), 1 out : (8,15), 2 outs : (16,23)\n",
    "    return b_val + (8*n_outs)\n",
    "\n",
    "# G - Play Number, Batter (Gorden or Gamel), Base Runner (011 Second and Third) Number of Outs, Base Runner Number of Outs : After Bat\n",
    "with open(\"G.csv\", mode=\"r\") as f:\n",
    "    lines = csv.reader(f)\n",
    "\n",
    "    for l in lines:\n",
    "\n",
    "        # Gordon\n",
    "        if l[1] == \"Gordon\":\n",
    "            G1[state(l[2])][state(l[3])] += 1\n",
    "\n",
    "        # Gamel\n",
    "        elif l[1] == \"Gamel\":\n",
    "            G2[state(l[2])][state(l[3])] += 1\n",
    "\n",
    "        else:\n",
    "            print(\"Invalid: \", l[1])"
   ]
  },
  {
   "cell_type": "code",
   "execution_count": 246,
   "metadata": {},
   "outputs": [
    {
     "name": "stdout",
     "output_type": "stream",
     "text": [
      "Exception:  ['', '000 0', '000 1', '000 2', '001 0', '001 1', '001 2', '010 0', '010 1', '010 2', '011 0', '011 1', '011 2', '100 0', '100 1', '100 2', '101 0', '101 1', '101 2', '110 0', '110 1', '110 2', '111 0', '111 1', '111 2', '3']\n"
     ]
    }
   ],
   "source": [
    "\n",
    "MLB_AVG= np.zeros((24,25)) # MLB AVG Transition\n",
    "# G - Play Number, Batter (Gorden or Gamel), Base Runner (011 Second and Third) Number of Outs, Base Runner Number of Outs : After Bat\n",
    "with open(\"MLBAVG.csv\", mode=\"r\") as f:\n",
    "    lines = csv.reader(f)\n",
    "    r_num=-2\n",
    "\n",
    "    for l in lines:\n",
    "        try:\n",
    "            r_num+=1\n",
    "            MLB_AVG[r_num] = [float(l[i]) for i in range(1,26)]\n",
    "        except Exception:\n",
    "            print(\"Exception: \", l)"
   ]
  },
  {
   "cell_type": "code",
   "execution_count": 248,
   "metadata": {},
   "outputs": [],
   "source": [
    "# Normalized G1\n",
    "n1 = [[G1[i][j] / sum(G1[i]) if sum(G1[i]) != 0 else 0 for j in range(25)] for i in range(24)]\n",
    "n1 = np.array(n1)\n",
    "\n",
    "# Normalized G2\n",
    "n2 = [[G2[i][j] / sum(G2[i]) if sum(G2[i]) != 0 else 0 for j in range(25)] for i in range(24)]\n",
    "n2 = np.array(n2)"
   ]
  },
  {
   "cell_type": "code",
   "execution_count": 249,
   "metadata": {},
   "outputs": [
    {
     "name": "stdout",
     "output_type": "stream",
     "text": [
      "First Row of Transition Matrix 1:\n",
      "[0.00490196 0.25       0.06372549 0.         0.01960784 0.\n",
      " 0.         0.         0.66176471 0.         0.         0.\n",
      " 0.         0.         0.         0.         0.         0.\n",
      " 0.         0.         0.         0.         0.         0.\n",
      " 0.        ]\n",
      "\n",
      "First Row of Transition Matrix 2:\n",
      "[0.01219512 0.29268293 0.08536585 0.         0.03658537 0.\n",
      " 0.         0.         0.57317073 0.         0.         0.\n",
      " 0.         0.         0.         0.         0.         0.\n",
      " 0.         0.         0.         0.         0.         0.\n",
      " 0.        ]\n"
     ]
    }
   ],
   "source": [
    "print(\"First Row of Transition Matrix 1:\")\n",
    "print(n1[0])\n",
    "\n",
    "print()\n",
    "print(\"First Row of Transition Matrix 2:\")\n",
    "print(n2[0])"
   ]
  },
  {
   "cell_type": "markdown",
   "metadata": {},
   "source": [
    "#### PART 2 CODE"
   ]
  },
  {
   "cell_type": "code",
   "execution_count": null,
   "metadata": {},
   "outputs": [],
   "source": [
    "# Part 2 - Replace 0 values with MLB Average\n",
    "# Normalized G1\n",
    "n1 = [[G1[i][j] / sum(G1[i]) if sum(G1[i]) != 0 else MLB_AVG[i][j] for j in range(25)] for i in range(24)]\n",
    "n1 = np.array(n1)\n",
    "\n",
    "# Normalized G2\n",
    "n2 = [[G2[i][j] / sum(G2[i]) if sum(G2[i]) != 0 else MLB_AVG[i][j] for j in range(25)] for i in range(24)]\n",
    "n2 = np.array(n2)"
   ]
  },
  {
   "cell_type": "code",
   "execution_count": 182,
   "metadata": {},
   "outputs": [
    {
     "name": "stdout",
     "output_type": "stream",
     "text": [
      "First Row of Transition Matrix 1:\n",
      "[0.00490196 0.25       0.06372549 0.         0.01960784 0.\n",
      " 0.         0.         0.66176471 0.         0.         0.\n",
      " 0.         0.         0.         0.         0.         0.\n",
      " 0.         0.         0.         0.         0.         0.\n",
      " 0.        ]\n",
      "\n",
      "First Row of Transition Matrix 2:\n",
      "[0.01219512 0.29268293 0.08536585 0.         0.03658537 0.\n",
      " 0.         0.         0.57317073 0.         0.         0.\n",
      " 0.         0.         0.         0.         0.         0.\n",
      " 0.         0.         0.         0.         0.         0.\n",
      " 0.        ]\n"
     ]
    }
   ],
   "source": [
    "print(\"First Row of Transition Matrix 1:\")\n",
    "print(n1[0])\n",
    "\n",
    "print()\n",
    "print(\"First Row of Transition Matrix 2:\")\n",
    "print(n2[0])"
   ]
  },
  {
   "cell_type": "markdown",
   "metadata": {},
   "source": [
    "#### PART 4-6 CODE"
   ]
  },
  {
   "cell_type": "code",
   "execution_count": 183,
   "metadata": {},
   "outputs": [
    {
     "name": "stdout",
     "output_type": "stream",
     "text": [
      "Exception:  ['', '000 0', '000 1', '000 2', '001 0', '001 1', '001 2', '010 0', '010 1', '010 2', '011 0', '011 1', '011 2', '100 0', '100 1', '100 2', '101 0', '101 1', '101 2', '110 0', '110 1', '110 2', '111 0', '111 1', '111 2', '']\n"
     ]
    }
   ],
   "source": [
    "RUNS = np.zeros((24,25)) # RUNS Matrix\n",
    "with open(\"runs.csv\", mode=\"r\") as f:\n",
    "    lines = csv.reader(f)\n",
    "    r_num=-2\n",
    "\n",
    "    for l in lines:\n",
    "        try:\n",
    "            r_num+=1\n",
    "            RUNS[r_num] = [float(l[i]) for i in range(1,26)]\n",
    "        except Exception:\n",
    "            pass"
   ]
  },
  {
   "cell_type": "code",
   "execution_count": 321,
   "metadata": {},
   "outputs": [],
   "source": [
    "# lineup - list of transition matrices\n",
    "# total_games - number of games to simulate\n",
    "def batting_sim(lineup, total_games=162):\n",
    "    num_runs = 0\n",
    "    \n",
    "    for games in range(total_games): # simulate each game\n",
    "        curr_batter = 0\n",
    "\n",
    "        for inning in range(9):  # 9 innings\n",
    "            state = 0 # reset number of outs\n",
    "            nstate = 0\n",
    "\n",
    "            # print(str(inning) + \": \", num_runs)\n",
    "\n",
    "            while state != 24: # while not 3 outs\n",
    "                r = lineup[curr_batter][state]\n",
    "                nstate = next_state(r)\n",
    "\n",
    "                # Next Batter\n",
    "                if curr_batter == 8: curr_batter = 0\n",
    "                else: curr_batter += 1\n",
    "\n",
    "                # Update the Number of runs after state transition\n",
    "                num_runs += RUNS[state][nstate]\n",
    "                state = nstate\n",
    "\n",
    "    return num_runs/total_games\n",
    "\n",
    "# Returns the Next State given the Distribution\n",
    "def next_state(r):\n",
    "    p = np.random.rand(1)[0] # Get Probability\n",
    "    r = [sum(r[:i]) for i in range(1,26)] # CDF\n",
    "\n",
    "    for i in range(25):\n",
    "        if p <= round(r[i],2):\n",
    "            return i\n",
    "\n",
    "# Compares Lineups\n",
    "def compare(lineup1, lineup2, N=100):\n",
    "    l1 = sum(batting_sim(lineup1) for i in range(N))/N # Simulate N times and average the number of runs scored/drive over the N seasons\n",
    "    l2 = sum(batting_sim(lineup2) for i in range(N))/N # Simulate N times and average the number of runs scored/drive over the N seasons\n",
    "\n",
    "    return((l1,l2))"
   ]
  },
  {
   "cell_type": "code",
   "execution_count": 319,
   "metadata": {},
   "outputs": [],
   "source": [
    "# Set Up Lineups\n",
    "\n",
    "lineup1, lineup2 = [0 for i in range(9)], [0 for i in range(9)] # initialize lists\n",
    "def get_matrix(path):\n",
    "    T = np.zeros((24,25))\n",
    "\n",
    "    with open(path, mode=\"r\") as f:\n",
    "        lines = csv.reader(f)\n",
    "        r_num=-2\n",
    "        for l in lines:\n",
    "            try:\n",
    "                r_num+=1\n",
    "                T[r_num] = [float(l[i]) for i in range(1,26)]\n",
    "            except Exception: \n",
    "                pass\n",
    "\n",
    "    for i in range(24):\n",
    "        if sum(T[i]) == 0:\n",
    "            T[i] = MLB_AVG[i]\n",
    "        else:\n",
    "            T[i] = T[i]/sum(T[i])\n",
    "\n",
    "                \n",
    "\n",
    "    return np.array(T)\n",
    "\n",
    "lineup1 = [get_matrix(\"mhaniger.csv\"),get_matrix(\"jsegura.csv\"),get_matrix(\"rcano.csv\"),get_matrix(\"ncruz.csv\"),get_matrix(\"kseager.csv\"),get_matrix(\"rhealy.csv\"), \n",
    "    get_matrix(\"dspan.csv\"), get_matrix(\"mzunino.csv\"), n1]\n",
    "\n",
    "lineup2 = [get_matrix(\"mhaniger.csv\"),get_matrix(\"jsegura.csv\"),get_matrix(\"rcano.csv\"),get_matrix(\"ncruz.csv\"),get_matrix(\"dspan.csv\"),get_matrix(\"kseager.csv\"), n2,\n",
    "    get_matrix(\"mzunino.csv\"), get_matrix(\"rhealy.csv\")]"
   ]
  },
  {
   "cell_type": "code",
   "execution_count": 322,
   "metadata": {},
   "outputs": [
    {
     "data": {
      "text/plain": [
       "(7.640555555555558, 8.552654320987651)"
      ]
     },
     "execution_count": 322,
     "metadata": {},
     "output_type": "execute_result"
    }
   ],
   "source": [
    "compare(lineup1, lineup2)"
   ]
  }
 ],
 "metadata": {
  "kernelspec": {
   "display_name": "Python 3.9.12 ('base')",
   "language": "python",
   "name": "python3"
  },
  "language_info": {
   "codemirror_mode": {
    "name": "ipython",
    "version": 3
   },
   "file_extension": ".py",
   "mimetype": "text/x-python",
   "name": "python",
   "nbconvert_exporter": "python",
   "pygments_lexer": "ipython3",
   "version": "3.9.12"
  },
  "orig_nbformat": 4,
  "vscode": {
   "interpreter": {
    "hash": "e3f058019491b5a987a146e2cbdf9c3254eb932582dd8a90e9955176c2995d91"
   }
  }
 },
 "nbformat": 4,
 "nbformat_minor": 2
}
