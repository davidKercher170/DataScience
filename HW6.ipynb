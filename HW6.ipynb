{
 "cells": [
  {
   "cell_type": "code",
   "execution_count": null,
   "metadata": {},
   "outputs": [],
   "source": [
    "import numpy as np\n",
    "from scipy.optimize import minimize, least_squares"
   ]
  },
  {
   "cell_type": "markdown",
   "metadata": {},
   "source": [
    "## Part a\n",
    "\n",
    "Looks like my first theta value is accurate, however my other theta values are slightly off (Not sure why this is happening, I tried several initial values). This changed my FIM slightly however you can see the same trends in the array (which entries are largest/smallest, positive/negative). Similarly my eigenvalues are similar to the solution eigenvalues."
   ]
  },
  {
   "cell_type": "code",
   "execution_count": 70,
   "metadata": {},
   "outputs": [
    {
     "name": "stdout",
     "output_type": "stream",
     "text": [
      "Cost: 0.019829802326365144 ---- Theta: [0.19178242 0.35075642 0.24187715 0.18232914]\n"
     ]
    }
   ],
   "source": [
    "\n",
    "u_vals = [4,2,1,0.5,0.25,0.167,0.1,0.0833,0.0714,0.0625]\n",
    "b = [0.1957, 0.1947, 0.1735, 0.16, 0.0844, 0.0627, 0.0456, 0.0342, 0.0323, 0.0235, 0.0246]\n",
    "b = np.array(b)\n",
    "y = lambda theta, u : (theta[0]*(u**2 + theta[1]*u))/(u**2 + theta[2]*u + theta[3])\n",
    "\n",
    "def y(theta,u):\n",
    "    theta = np.abs(np.log(theta))\n",
    "    return (theta[0]*(u**2 + theta[1]*u))/(u**2 + theta[2]*u + theta[3])\n",
    "\n",
    "def cost(theta):\n",
    "    out = [y(theta,u_vals[k]) - b[k] for k in range(len(u_vals))]\n",
    "    return np.array(out)\n",
    "\n",
    "theta_0 = [0.1,0.1,0.1,0.1]\n",
    "v = least_squares(cost, theta_0, method=\"lm\")\n",
    "theta = v[\"x\"]\n",
    "print(\"Cost: \" + str(np.linalg.norm(cost(theta),2)) + \" ---- Theta: \" + str(np.abs(np.log(theta))))"
   ]
  },
  {
   "cell_type": "code",
   "execution_count": 82,
   "metadata": {},
   "outputs": [
    {
     "name": "stdout",
     "output_type": "stream",
     "text": [
      "[[ 0.1630447   0.08539002 -0.05308374 -0.03331393]\n",
      " [ 0.08539002  0.05467136 -0.02829186 -0.0246562 ]\n",
      " [-0.05308374 -0.02829186  0.01786713  0.01106625]\n",
      " [-0.03331393 -0.0246562   0.01106625  0.01207184]]\n",
      "Eigenvalues:  [2.35370190e-01 1.17491399e-02 5.29790301e-04 5.91576306e-06]\n"
     ]
    }
   ],
   "source": [
    "def jacob(theta):\n",
    "    theta = np.abs(np.log(theta))\n",
    "    c1 = [(u**2 + theta[1]*u)/(u**2 + theta[2]*u + theta[3]) for u in u_vals]\n",
    "    c2 = [theta[0]*u/(u**2 + theta[2]*u + theta[3]) for u in u_vals]\n",
    "    c3 = [-u*(theta[0]*(u**2 + theta[1]*u))/(u**2 + theta[2]*u + theta[3])**2  for u in u_vals]\n",
    "    c4 = [-(theta[0]*(u**2 + theta[1]*u))/(u**2 + theta[2]*u + theta[3])**2  for u in u_vals]\n",
    "    return np.column_stack([c1,c2,c3,c4])\n",
    "\n",
    "\n",
    "def FIM(theta):\n",
    "    j = jacob(theta)\n",
    "    return (j.T @ j)/10\n",
    "\n",
    "F = FIM([0.197, 0.3508, 0.2419, 0.1823])\n",
    "\n",
    "print(F)\n",
    "print(\"Eigenvalues: \", np.linalg.eigvals(F))"
   ]
  }
 ],
 "metadata": {
  "kernelspec": {
   "display_name": "Python 3.9.12 ('base')",
   "language": "python",
   "name": "python3"
  },
  "language_info": {
   "codemirror_mode": {
    "name": "ipython",
    "version": 3
   },
   "file_extension": ".py",
   "mimetype": "text/x-python",
   "name": "python",
   "nbconvert_exporter": "python",
   "pygments_lexer": "ipython3",
   "version": "3.9.12"
  },
  "orig_nbformat": 4,
  "vscode": {
   "interpreter": {
    "hash": "e3f058019491b5a987a146e2cbdf9c3254eb932582dd8a90e9955176c2995d91"
   }
  }
 },
 "nbformat": 4,
 "nbformat_minor": 2
}
