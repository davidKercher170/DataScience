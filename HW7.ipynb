{
 "cells": [
  {
   "cell_type": "markdown",
   "metadata": {},
   "source": [
    "### 1 Predator Prey Model\n",
    "\n",
    "$\\\\$ a. Find all equilibria for this dynamical system and interpret the ecological meaning of each one.\n",
    "\n",
    "Equilibrium 1: $y=0, x=0$. There is no Prey nor Predator Population, so no changes in population can take place.\n",
    "\n",
    "Equilibrium 2: $y=0, x=k$. The Prey Population is at capacity while there is no Predator population to impact the prey population.\n",
    "\n",
    "Equilibrium 3: $y=\\frac{a}{b}(1-\\frac{c}{dK}), x=\\frac{c}{d}$. The Prey population is at the ideal amount to sustain the Predator while both maintain their same population.\n",
    "\n",
    "$\\\\$ b. Formulate and solve a learning problem to fit this data using a continuous-time dynamical system. Report your estimates of all the parameters and plot the predictions of your model versus time on the same axes as the data.\n",
    "\n",
    "We can set up this learning problem as follows:\n",
    "\n",
    "$$min ||v(t) - F(\\theta, t)||_2$$\n",
    "\n",
    "where $v(t) = [x(t), y(t)]$ and $F(\\theta, t)$ is the model at time t with parameters (a,b,c,d,K).\n",
    "\n",
    "$\\\\$ c. Approximate each derivative with a forward difference to obtain a discrete time approximations of the system in. Using thsi difference equation, formulate and solve a learning problem to fit this data using a discrete-time dynamical system. Report your estimates of all the parameters and add the predictions of this model to the axes in part b.\n",
    "\n",
    "\n",
    "$\\\\$ d. For the model in part c, calculate the FIM and report the estimated uncertainty in each of your paramters."
   ]
  },
  {
   "cell_type": "code",
   "execution_count": 166,
   "metadata": {},
   "outputs": [
    {
     "name": "stdout",
     "output_type": "stream",
     "text": [
      "Cost: 1.4439591375845267 ---- Theta: [1.94896242 4.48343999 0.29286341 2.48314356 2.51351153]\n"
     ]
    },
    {
     "name": "stderr",
     "output_type": "stream",
     "text": [
      "C:\\Users\\davee\\AppData\\Local\\Temp\\ipykernel_10428\\670783581.py:20: RuntimeWarning: overflow encountered in double_scalars\n",
      "  b =  A @ np.array([x_k, y_k , x_k*y_k , x_k**2])\n",
      "C:\\Users\\davee\\AppData\\Local\\Temp\\ipykernel_10428\\670783581.py:20: RuntimeWarning: invalid value encountered in matmul\n",
      "  b =  A @ np.array([x_k, y_k , x_k*y_k , x_k**2])\n"
     ]
    }
   ],
   "source": [
    "# Code for Part 1.C\n",
    "import numpy as np\n",
    "from scipy.optimize import minimize, least_squares\n",
    "import matplotlib.pyplot as plt\n",
    "\n",
    "years = [i for i in range(22)] # 1995 to 2016\n",
    "elk = [16250, 16250, 13500, 11700, 11750, 14500, 13500, 12000,  9100, 8200, 9500, 8150, 6800, 6200, 7100, 6050, 4600, 4050, 3950, 4450, 4950, 5000] # elk population\n",
    "wolves = [21, 24, 32, 48, 44, 72, 77, 84, 98, 84, 54, 75, 94, 56, 40, 38, 38, 34, 34, 41, 50, 41] # wolf population\n",
    "\n",
    "elk = np.log(elk)\n",
    "wolves = np.log(wolves)\n",
    "\n",
    "\n",
    "def cost(theta):\n",
    "    a, b, c, d, k = theta[0], theta[1], theta[2], theta[3], theta[4]\n",
    "    x_k,y_k  = elk[0], wolves[0]\n",
    "    out = []\n",
    "    A = np.array([[1+a, 0, -b, -a/k], [0, 1-c, d, 0]])\n",
    "    for i in range(1,22):\n",
    "        b =  A @ np.array([x_k, y_k , x_k*y_k , x_k**2])\n",
    "        x_k, y_k = b[0], b[1]\n",
    "        out.append(abs(x_k - elk[i]))\n",
    "        out.append(abs(y_k - wolves[i]))\n",
    "    return out\n",
    "\n",
    "def f(theta):\n",
    "    a, b, c, d, k = theta[0], theta[1], theta[2], theta[3], theta[4]\n",
    "    x_k,y_k  = elk[0], wolves[0]\n",
    "    x,y = [elk[0]], [wolves[0]]\n",
    "    A = np.array([[1+a, 0, -b, -a/k], [0, 1-c, d, 0]])\n",
    "    for i in range(1,22):\n",
    "        b =  A @ np.array([x_k, y_k , x_k*y_k , x_k**2])\n",
    "        x_k, y_k = b[0], b[1]\n",
    "        x.append(x_k)\n",
    "        y.append(y_k)\n",
    "    return x,y\n",
    "\n",
    "\n",
    "theta_0 = [.00033,.1,.3,.004, 10]\n",
    "v = least_squares(cost, theta_0, method=\"lm\")\n",
    "theta = v[\"x\"]\n",
    "print(\"Cost: \" + str(np.linalg.norm(cost(theta),2)) + \" ---- Theta: \" + str(np.abs(np.log(theta))))"
   ]
  },
  {
   "cell_type": "code",
   "execution_count": 167,
   "metadata": {},
   "outputs": [
    {
     "data": {
      "text/plain": [
       "[<matplotlib.lines.Line2D at 0x27a30ece880>]"
      ]
     },
     "execution_count": 167,
     "metadata": {},
     "output_type": "execute_result"
    },
    {
     "data": {
      "image/png": "[encoded data removed]",
      "text/plain": [
       "<Figure size 432x288 with 1 Axes>"
      ]
     },
     "metadata": {
      "needs_background": "light"
     },
     "output_type": "display_data"
    }
   ],
   "source": [
    "x,y = f(theta)\n",
    "plt.title(\"Elk Population\")\n",
    "plt.plot(years, [np.exp(i) for i in x])"
   ]
  },
  {
   "cell_type": "code",
   "execution_count": 168,
   "metadata": {},
   "outputs": [
    {
     "data": {
      "text/plain": [
       "[<matplotlib.lines.Line2D at 0x27a30f28e20>]"
      ]
     },
     "execution_count": 168,
     "metadata": {},
     "output_type": "execute_result"
    },
    {
     "data": {
      "image/png": "[encoded data removed]",
      "text/plain": [
       "<Figure size 432x288 with 1 Axes>"
      ]
     },
     "metadata": {
      "needs_background": "light"
     },
     "output_type": "display_data"
    }
   ],
   "source": [
    "plt.title(\"Wolf Population\")\n",
    "plt.plot(years, [np.exp(i) for i in y])"
   ]
  },
  {
   "cell_type": "code",
   "execution_count": null,
   "metadata": {},
   "outputs": [],
   "source": [
    "def jacob(theta):\n",
    "    a, b, c, d, k = theta[0], theta[1], theta[2], theta[3], theta[4]\n",
    "    x_k,y_k  = 162.5, .21\n",
    "    x,y = [16250], [21]\n",
    "    A = np.array([[1+a, 0, -b, -a/k], [0, 1-c, d, 0]])\n",
    "\n",
    "\n",
    "def FIM(theta):\n",
    "    s= 4.8/(np.sqrt(17))\n",
    "    J = jacob(theta)\n",
    "    return s**(-2)*(J @ J.T)"
   ]
  },
  {
   "cell_type": "markdown",
   "metadata": {},
   "source": [
    "### 2 Negotiation as a Dynamical System\n",
    "\n",
    "$\\\\$ Write the dynamic state equations (in matrix form) for the situation described above.\n",
    "\n",
    "Let x be the demand from Labor and y the demand from Management. Then the new demand x would be the previous offer plus $\\alpha$ multiplied by the difference between the offer y from Management. Similarly new offer y would be the previous offer plus $\\beta$ multiplied by the difference between the offer y from Management.\n",
    "\n",
    "$$\\frac{dx}{dt} = x + \\beta(y-x) = (1-\\beta)x + \\beta y$$\n",
    "$$\\frac{dy}{dt} = y - \\alpha(y-x) = (1-\\alpha)y +\\alpha x$$\n",
    "\n",
    "This gives us the dynamic state equations:\n",
    "\n",
    "$$\\begin{bmatrix}\n",
    "    x_{k+1} \\\\\n",
    "    y_{k+1}\n",
    "  \\end{bmatrix} = \\begin{bmatrix}\n",
    "    \\beta &(1-\\beta) \\\\\n",
    "    (1-\\alpha) & \\alpha\n",
    "  \\end{bmatrix} \\begin{bmatrix}\n",
    "    x_k \\\\\n",
    "    y_k\n",
    "  \\end{bmatrix}$$"
   ]
  },
  {
   "cell_type": "markdown",
   "metadata": {},
   "source": [
    "### 3 Algorithm Analysis for Estimating Square Roots\n",
    "\n",
    "$\\\\$ a. Where are the equilibria for the system in (1)? Are there more than one? Why is this appropriate for th problem it is attempting to solve?\n",
    "\n",
    "$$ x = x + a - x^2$$\n",
    "$$\\implies x^2 = a$$\n",
    "$$\\implies x = \\pm \\sqrt{a}$$\n",
    "\n",
    "$\\\\$ b. Linearize the system in (1) around the equilibrium point $ x = \\sqrt{a}$.\n",
    "\n",
    "$$dx_{k+1} = x_{k+1} - x_0 = \\frac{df}{dx}(x_k-x)$$\n",
    "\n",
    "$$\\implies dx_{x+1} = (1-2\\sqrt{a})x$$\n",
    "\n",
    "$\\\\$ c. Under what conditions on a is this equilibrium point stable? Showing stability to the right equilibrium point is often how correctness of an algorithm is proven-it is correct because the equilibrium point is the right answer for each allowed instance of the problem.\n",
    "\n",
    "The equilibrium is safe for $0 \\leq \\sqrt{a} \\leq 1$.\n",
    "\n",
    "$\\\\$ d. Use the eigenvalue of the linearized system to comment on the rate of convergence of the algorithm. Is this a fast or a slow algorithm, in your opiniion? Are there ways you could suggest to improve the algorithm' rate of convergence? Rates of convergence are related to the performance and efficiency of an algorithm; expressing an algorithm as a dynamical system enables a rich analysis characterizing many of its properties.\n",
    "\n",
    "The solution for $x_{k+1}$ is $x_{k+1} = (1-2 \\sqrt{a})^k x(0)$. Thus $x_{k+1}$ will converge when x(0) is positive."
   ]
  },
  {
   "cell_type": "markdown",
   "metadata": {},
   "source": [
    "### 4  National Economics as Dynamics\n",
    "\n",
    "\n",
    "1. Put these expressions together to build a state space model of the economy. What is the minimum order for such a model? What is the input to the model? What are the state variables? What is the output?\n",
    "\n",
    "$$C_{k+1} = m(C_k + I_k + G_k)$$\n",
    "\n",
    "\n",
    "\n",
    "$$I_{k+1} = \\mu (C_{k+1} - C_k)$$\n",
    "$$ = \\mu m (C_k + I_{k+1} + G_{k+1} - C_k - I_k - G_k)$$\n",
    "$$ = \\mu m (I_{k+1} + G_{k+1} - I_k - G_k)$$\n",
    "\n",
    "$$\\implies \\begin{bmatrix}\n",
    "    C_{k+1} \\\\\n",
    "    I_{k+1}\n",
    "  \\end{bmatrix} = \\begin{bmatrix}\n",
    "    m & m \\\\\n",
    "    \\mu (m-1) & \\mu m\n",
    "  \\end{bmatrix} \\begin{bmatrix}\n",
    "    C_k \\\\\n",
    "    I_k\n",
    "  \\end{bmatrix} + \\begin{bmatrix}\n",
    "    m \\\\\n",
    "    \\mu m\n",
    "  \\end{bmatrix} G_k$$\n",
    "\n",
    "2. What are the conditions on m and $\\mu$ for the model to be stable?\n",
    "\n",
    "To find the conditions for stability, we must first find the eigenvalues. These eigenvalues are found by the equation:\n",
    "\n",
    "$$ \\lambda = \\frac{(m+ \\mu m) \\pm \\sqrt{(m + \\mu m)^2 - 4 \\mu m}}{2}$$\n",
    "\n",
    "with the condition that $| \\lambda | \\geq 1$.\n",
    "\n",
    "3. Let m = 0.25 and $\\mu = 0.5$. iF g[K] =10, what are the values of C, I, and Y for the system to be in equilibrium? If you start from this equilibrium, and then increase government spending by 10%, how does the system respond? Simulate it and plot the response of each variable in the system. Under what conditions does this model predict that government spending is valuable?\n",
    "\n",
    "$$Ax_k + Bu_k = x_k$$\n",
    "$$\\implies Ax_k - x_k = -Bu_k$$\n",
    "$$\\implies x_k = -(A-I)^{-1}Bu_k$$\n",
    "\n",
    "This yields the values, $C_k = \\frac{10}{3}$ , $I_k = 0$, and $Y_k = C_k + 10 = \\frac{40}{3} = 13.33$.\n",
    "\n",
    "$\\\\$ Next, by increasing the government budget by 10% we found that $Y_k$ stabilized at 14.66. This was roughly a 10% increase to GDP. This implies that government spending can change the equilibrium point of $Y_k$, the GDP."
   ]
  },
  {
   "cell_type": "markdown",
   "metadata": {},
   "source": []
  }
 ],
 "metadata": {
  "kernelspec": {
   "display_name": "Python 3.9.12 ('base')",
   "language": "python",
   "name": "python3"
  },
  "language_info": {
   "codemirror_mode": {
    "name": "ipython",
    "version": 3
   },
   "file_extension": ".py",
   "mimetype": "text/x-python",
   "name": "python",
   "nbconvert_exporter": "python",
   "pygments_lexer": "ipython3",
   "version": "3.9.12"
  },
  "orig_nbformat": 4,
  "vscode": {
   "interpreter": {
    "hash": "e3f058019491b5a987a146e2cbdf9c3254eb932582dd8a90e9955176c2995d91"
   }
  }
 },
 "nbformat": 4,
 "nbformat_minor": 2
}
