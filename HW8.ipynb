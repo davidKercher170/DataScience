{
 "cells": [
  {
   "cell_type": "markdown",
   "metadata": {},
   "source": [
    "#### 1 Dynamical Structure Functions.\n",
    "\n",
    "$\\\\$ a. Compute the transfer function G(s) for this system.\n",
    "\n",
    "$\\\\$ The transfer function is calculated by $G(s) = C(sI-A)^{-1}B + D$, with \n",
    "\n",
    "$$(sI-A)^{-1} = \\begin{bmatrix}\n",
    "    s + 1 & 0 & 0 & -1 & 0 & 0 \\\\\n",
    "    0 & s + 2 & 0 & 0 & -1 & 0 \\\\\n",
    "    0 & 0 & s + 3 & 0 & 0 & -1 \\\\\n",
    "    0 & 0 & -1 & s + 4 & 0 & 0 \\\\\n",
    "    -1 & 0 & 0 & 0 & s + 5 & 0 \\\\\n",
    "    0 & -1 & 0 & 0 & 0 & s + 1\n",
    "  \\end{bmatrix}^{-1}$$\n",
    "\n",
    "$$C=\\begin{bmatrix}\n",
    "1 & 0 & 0 & 0 & 0 & 0 \\\\\n",
    "0 & 1 & 0 & 0 & 0 & 0 \\\\\n",
    "0 & 0 & 1 & 0 & 0 & 0 \n",
    "\\end{bmatrix} $$\n",
    "\n",
    "$$B=\\begin{bmatrix}\n",
    "0 & 0 & 0 \\\\\n",
    "0 & 0 & 0 \\\\\n",
    "0 & 0 & 0 \\\\\n",
    "1 & 0 & 0 \\\\\n",
    "0 & 1 & 0 \\\\\n",
    "0 & 0 & 1 \n",
    "\\end{bmatrix} $$\n",
    "\n",
    "Computing this system yields:\n",
    "\n",
    "$$ G(s)=\\begin{bmatrix}\n",
    "\\frac{s^4+16s^3+91s^2+216s+180}{s^6 + 21s^5 + 175 s^4 + 735s^3 + 1624s^2 + 1764s + 719} & \\frac{1}{s^6 + 21s^5 + 175 s^4 + 735s^3 + 1624s^2 + 1764s + 719} & \\frac{s^2+7s+10}{s^6 + 21s^5 + 175 s^4 + 735s^3 + 1624s^2 + 1764s + 719} \\\\\n",
    "\\frac{s^2+9s+18}{s^6 + 21s^5 + 175 s^4 + 735s^3 + 1624s^2 + 1764s + 719} & \\frac{s^4+14s^3+67s^2+126s+72}{s^6 + 21s^5 + 175 s^4 + 735s^3 + 1624s^2 + 1764s + 719} & \\frac{1}{s^6 + 21s^5 + 175 s^4 + 735s^3 + 1624s^2 + 1764s + 719}\\\\\n",
    "\\frac{1}{s^6 + 21s^5 + 175 s^4 + 735s^3 + 1624s^2 + 1764s + 719} & \\frac{s^2+5s+4}{s^6 + 21s^5 + 175 s^4 + 735s^3 + 1624s^2 + 1764s + 719} & \\frac{s^4+12s^3+49s^2+78s+40}{s^6 + 21s^5 + 175 s^4 + 735s^3 + 1624s^2 + 1764s + 719} \n",
    "\\end{bmatrix} $$\n",
    "\n",
    "\n",
    "Next  the Dynamic structure function is calculated by ...\n",
    "\n",
    "\n",
    "$$Q=\\begin{bmatrix}\n",
    "0 & 0 & \\frac{1}{(s+1)(s+4)} \\\\\n",
    "\\frac{1}{(s+2)(s+5)} & 0 & 0 \\\\\n",
    "0 & \\frac{1}{(s+3)(s+6)} & 0\n",
    "\\end{bmatrix}, P=\\begin{bmatrix}\n",
    "\\frac{1}{(s+1)(s+4)} & 0 & 0 \\\\\n",
    "0 & \\frac{1}{(s+2)(s+5)} & 0 \\\\\n",
    "0 & 0 & \\frac{1}{(s+3)(s+6)}\n",
    "\\end{bmatrix} $$\n",
    "\n",
    "Lastly, we must verify that $G(s) = (I-Q(s))^{-1}P(s)$:\n",
    "\n",
    "$$(I-Q)^{-1}P=\\begin{bmatrix}\n",
    "1 & 0 & -\\frac{1}{(s+1)(s+4)} \\\\\n",
    "-\\frac{1}{(s+2)(s+5)} & 1 & 0 \\\\\n",
    "0 & -\\frac{1}{(s+3)(s+6)} & 1\n",
    "\\end{bmatrix}^{-1}\\begin{bmatrix}\n",
    "\\frac{1}{(s+1)(s+4)} & 0 & 0 \\\\\n",
    "0 & \\frac{1}{(s+2)(s+5)} & 0 \\\\\n",
    "0 & 0 & \\frac{1}{(s+3)(s+6)}\n",
    "\\end{bmatrix}$$\n",
    "\n",
    "\n",
    "Assuming the above is true, then:\n",
    "$$ G(s) = (I-Q(s))^{-1}P(s) \\implies G(s)P^{-1}(s) =  (I-Q(s))^{-1}$$\n",
    "\n",
    "$$ \\implies \\begin{bmatrix}\n",
    "\\frac{s^4+16s^3+91s^2+216s+180}{s^6 + 21s^5 + 175 s^4 + 735s^3 + 1624s^2 + 1764s + 719} & \\frac{1}{s^6 + 21s^5 + 175 s^4 + 735s^3 + 1624s^2 + 1764s + 719} & \\frac{s^2+7s+10}{s^6 + 21s^5 + 175 s^4 + 735s^3 + 1624s^2 + 1764s + 719} \\\\\n",
    "\\frac{s^2+9s+18}{s^6 + 21s^5 + 175 s^4 + 735s^3 + 1624s^2 + 1764s + 719} & \\frac{s^4+14s^3+67s^2+126s+72}{s^6 + 21s^5 + 175 s^4 + 735s^3 + 1624s^2 + 1764s + 719} & \\frac{1}{s^6 + 21s^5 + 175 s^4 + 735s^3 + 1624s^2 + 1764s + 719}\\\\\n",
    "\\frac{1}{s^6 + 21s^5 + 175 s^4 + 735s^3 + 1624s^2 + 1764s + 719} & \\frac{s^2+5s+4}{s^6 + 21s^5 + 175 s^4 + 735s^3 + 1624s^2 + 1764s + 719} & \\frac{s^4+12s^3+49s^2+78s+40}{s^6 + 21s^5 + 175 s^4 + 735s^3 + 1624s^2 + 1764s + 719} \n",
    "\\end{bmatrix} \\begin{bmatrix}\n",
    "(s+1)(s+4) & 0 & 0 \\\\\n",
    "0 & (s+2)(s+5) & 0 \\\\\n",
    "0 & 0 & (s+3)(s+6)\n",
    "\\end{bmatrix}\n",
    "$$\n",
    "\n",
    "$$= \\begin{bmatrix}\n",
    "1 & 0 & -\\frac{1}{(s+1)(s+4)} \\\\\n",
    "-\\frac{1}{(s+2)(s+5)} & 1 & 0 \\\\\n",
    "0 & -\\frac{1}{(s+3)(s+6)} & 1\n",
    "\\end{bmatrix}^{-1} = (I-Q(s))^{-1}$$\n",
    "\n",
    "Which after solving algebraicly is proven true. Thus $G(s) = (I-Q(s))^{-1}P(s)$.\n",
    "\n",
    "$\\\\$ \n",
    "$\\\\$ b. Draw a graph for the manifest structure of the system, revealed by G and the signal structure of the system revealed by the dynamical structure function (Q,P).\n",
    "\n",
    "$\\\\$ \n",
    "$\\\\$ c. Suppose each element of the Dynamical structure was an independent subsystem. Draw a block diagram. What is the sum of the orders of these subsystesm (yielding the order of the complete interconnected system)? How does this order compare to the order of (A,B,C)? Explain. Can interpreting the signal structure of a system as an interconnection of subsystems be misleading? Why or why not?\n",
    "\n",
    "The sum of the orders of the subsystems would be the same as the order of the system (A,B,C). It is odd that this occurs, and I don't believe this would occur in all such cases (checking the key, Yes this is not always true). Interpretting the interconnection of subsystems can certainly be misleading, this difference is orders is one such case."
   ]
  },
  {
   "cell_type": "markdown",
   "metadata": {},
   "source": [
    "#### 2 State Space Contains More information\n",
    "\n",
    "\n",
    "1. Suppose you create a different causal mechanism, leading to a different state space model, by changin bases for x(t). Rewrite the equations from (1) in terms of z instead of x.\n",
    "\n",
    "$\\\\$ \n",
    "\n",
    "After a change of basis z(t) = Tx(t), we can rewrite the equations as:\n",
    "\n",
    "$$\\frac{dz}{dt}(t) = \\bar{A}z(t) + \\bar{B}u(t)$$\n",
    "$$ y(t) = \\bar{C}z(t) + \\bar{D}u(t)$$\n",
    "\n",
    "We can find these new equations as well as $\\bar{A}, \\bar{B}, \\bar{C},$ and $\\bar{D}$ by solving for $z(t)$ and $\\frac{dz}{dt}$.\n",
    "\n",
    "$$z(t) = Tx(t) \\implies \\frac{dz}{dt} = T \\frac{dx}{dt} = T(Ax(t) + Bu(t))$$\n",
    "\n",
    "$$ \\implies \\frac{dz}{dt} = T \\frac{dx}{dt} = T(AT^{-1}x(t) + Bu(t))$$\n",
    "\n",
    "$$ \\implies \\frac{dz}{dt} = TAT^{-1}x(t) + TBu(t) = \\bar{A}z(t) + \\bar{B}u(t)$$\n",
    "\n",
    "where $\\bar{A} = TAT^{-1}$ and $\\bar{B} = TB$.\n",
    "\n",
    "Then for y(t),\n",
    "\n",
    "$$ y(t) = Cx(t) + Du(t) = CT^{-1}z(t) + Du(t) = \\bar{C}z(t) + \\bar{D}u(t)$$\n",
    "\n",
    "where $\\bar{C} = CT^{-1}$ and $\\bar{D} = D$.\n",
    "\n",
    "Thus we can rewrite the equations as\n",
    "\n",
    "$$\\frac{dz}{dt}(t) = \\bar{A}z(t) + \\bar{B}u(t)$$\n",
    "$$ y(t) = \\bar{C}z(t) + \\bar{D}u(t)$$\n",
    "\n",
    "with $\\bar{A} = TAT^{-1}$, $\\bar{B} = TB$, $\\bar{C} = CT^{-1}$ and $\\bar{D} = D$.\n",
    "\n",
    "$\\\\$\n",
    "\n",
    "2. Prove that if $\\bar{G}(s)$ is the transfer function for the system that $\\bar{G} = G$. \n",
    "\n",
    "$\\\\$ \n",
    "\n",
    "The transfer function G(S) is found by $G(s) = C(sI-A)^{-1}B + D$, thus $\\bar{G(s)}  = \\bar{C}(sI-\\bar{A})^{-1}\\bar{B} + \\bar{D}$.\n",
    "\n",
    "Then inserting the functions $\\bar{A} = TAT^{-1}$, $\\bar{B} = TB$, $\\bar{C} = CT^{-1}$ and $\\bar{D} = D$ we get:\n",
    "\n",
    "\n",
    "$$ \\bar{G(s)}  = \\bar{C}(sI-\\bar{A})^{-1}\\bar{B} + \\bar{D} = CT^{-1}(sI-TAT^{-1})^{-1}TB + D$$\n",
    "\n",
    "$$ = C(T^{-1}sIT-T^{-1}TAT^{-1}T)^{-1}B + D$$\n",
    "\n",
    "$$ = C(sT^{-1}T-A)^{-1}B + D = = C(sI-A)^{-1}B + D = G(s)$$\n",
    "\n",
    "Thus $\\bar{G(s)} = G(s)$.\n",
    "\n",
    "$\\\\$ \n",
    "\n",
    "3. Prove that $(Q, P) = (\\bar{Q}, \\bar{P})$.\n",
    "\n",
    "When the change of basis function is simply a permutation matrix, we do not change the structure of the problem. Thus $(Q, P) = (\\bar{Q}, \\bar{P})$.\n",
    "\n",
    "$\\\\$ \n"
   ]
  },
  {
   "cell_type": "markdown",
   "metadata": {},
   "source": [
    "#### 3 The Mariners.\n",
    "\n",
    "\n",
    "(3) Using the MLB averages is not the best way to replace nan values. A Markov chain should have rows sum to 1. However by replace these rows with the mlb average our Matrix no longer has the Markov Properties. One possible fix is to just replace these values with 0 (which is what I did in part 1). Alternatively we could update it with their percentage for single, double, or triple with a different number of outs (and if that doesn't work a different number of base runners). Another idea would be to just update with their averages for a single, double, or triple overall.\n",
    "\n",
    "\n",
    "(4-6) I'm rather confused how the file runs.csv has negative values, since you can't have negative runs in baseball. However the results were mostly as expected:\n",
    "\n",
    "(Lineup1, Lineup2) = (7.64, 8.55)\n",
    "\n",
    "We expected Lineup 2 to have a higher average than Lineup 1. However at first glance these numbers seem inflated, an average of 8.56 runs per game would be amazing in the game of baseball!"
   ]
  },
  {
   "cell_type": "markdown",
   "metadata": {},
   "source": [
    "#### PART 1 CODE"
   ]
  },
  {
   "cell_type": "code",
   "execution_count": 245,
   "metadata": {},
   "outputs": [
    {
     "name": "stdout",
     "output_type": "stream",
     "text": [
      "Invalid:  batter\n"
     ]
    }
   ],
   "source": [
    "import numpy as np\n",
    "import csv\n",
    "\n",
    "times = []\n",
    "b = []\n",
    " \n",
    "# Transition Matrix: There are 25 Possible States: 8 Possible variations of runners on base with possible outs of 0, 1, or 2. Giving 24 states.\n",
    "# There is one additional state for 3 outs (runners on base will always be 000 since the inning is over)\n",
    "G1 = np.zeros((24,25)) # Gorden Transition\n",
    "G2 = np.zeros((24,25)) # Gamel Transition\n",
    "\n",
    "def state(s):\n",
    "    s = s.split(\" \")\n",
    "    r = s[0] # base runners\n",
    "\n",
    "    # return state 25, if there are 3 outs\n",
    "    if r[0] == '3':\n",
    "        return 24\n",
    "\n",
    "    n_outs = int(s[1])\n",
    "    # value for base runners element of [0,7]\n",
    "    b_val = int(r[0]) + int(r[1])*2 + int(r[2])*4\n",
    "\n",
    "    # 0 outs : (0,7), 1 out : (8,15), 2 outs : (16,23)\n",
    "    return b_val + (8*n_outs)\n",
    "\n",
    "# G - Play Number, Batter (Gorden or Gamel), Base Runner (011 Second and Third) Number of Outs, Base Runner Number of Outs : After Bat\n",
    "with open(\"G.csv\", mode=\"r\") as f:\n",
    "    lines = csv.reader(f)\n",
    "\n",
    "    for l in lines:\n",
    "\n",
    "        # Gordon\n",
    "        if l[1] == \"Gordon\":\n",
    "            G1[state(l[2])][state(l[3])] += 1\n",
    "\n",
    "        # Gamel\n",
    "        elif l[1] == \"Gamel\":\n",
    "            G2[state(l[2])][state(l[3])] += 1\n",
    "\n",
    "        else:\n",
    "            print(\"Invalid: \", l[1])"
   ]
  },
  {
   "cell_type": "code",
   "execution_count": 246,
   "metadata": {},
   "outputs": [
    {
     "name": "stdout",
     "output_type": "stream",
     "text": [
      "Exception:  ['', '000 0', '000 1', '000 2', '001 0', '001 1', '001 2', '010 0', '010 1', '010 2', '011 0', '011 1', '011 2', '100 0', '100 1', '100 2', '101 0', '101 1', '101 2', '110 0', '110 1', '110 2', '111 0', '111 1', '111 2', '3']\n"
     ]
    }
   ],
   "source": [
    "\n",
    "MLB_AVG= np.zeros((24,25)) # MLB AVG Transition\n",
    "# G - Play Number, Batter (Gorden or Gamel), Base Runner (011 Second and Third) Number of Outs, Base Runner Number of Outs : After Bat\n",
    "with open(\"MLBAVG.csv\", mode=\"r\") as f:\n",
    "    lines = csv.reader(f)\n",
    "    r_num=-2\n",
    "\n",
    "    for l in lines:\n",
    "        try:\n",
    "            r_num+=1\n",
    "            MLB_AVG[r_num] = [float(l[i]) for i in range(1,26)]\n",
    "        except Exception:\n",
    "            print(\"Exception: \", l)"
   ]
  },
  {
   "cell_type": "code",
   "execution_count": 248,
   "metadata": {},
   "outputs": [],
   "source": [
    "# Normalized G1\n",
    "n1 = [[G1[i][j] / sum(G1[i]) if sum(G1[i]) != 0 else 0 for j in range(25)] for i in range(24)]\n",
    "n1 = np.array(n1)\n",
    "\n",
    "# Normalized G2\n",
    "n2 = [[G2[i][j] / sum(G2[i]) if sum(G2[i]) != 0 else 0 for j in range(25)] for i in range(24)]\n",
    "n2 = np.array(n2)"
   ]
  },
  {
   "cell_type": "code",
   "execution_count": 249,
   "metadata": {},
   "outputs": [
    {
     "name": "stdout",
     "output_type": "stream",
     "text": [
      "First Row of Transition Matrix 1:\n",
      "[0.00490196 0.25       0.06372549 0.         0.01960784 0.\n",
      " 0.         0.         0.66176471 0.         0.         0.\n",
      " 0.         0.         0.         0.         0.         0.\n",
      " 0.         0.         0.         0.         0.         0.\n",
      " 0.        ]\n",
      "\n",
      "First Row of Transition Matrix 2:\n",
      "[0.01219512 0.29268293 0.08536585 0.         0.03658537 0.\n",
      " 0.         0.         0.57317073 0.         0.         0.\n",
      " 0.         0.         0.         0.         0.         0.\n",
      " 0.         0.         0.         0.         0.         0.\n",
      " 0.        ]\n"
     ]
    }
   ],
   "source": [
    "print(\"First Row of Transition Matrix 1:\")\n",
    "print(n1[0])\n",
    "\n",
    "print()\n",
    "print(\"First Row of Transition Matrix 2:\")\n",
    "print(n2[0])"
   ]
  },
  {
   "cell_type": "markdown",
   "metadata": {},
   "source": [
    "#### PART 2 CODE"
   ]
  },
  {
   "cell_type": "code",
   "execution_count": null,
   "metadata": {},
   "outputs": [],
   "source": [
    "# Part 2 - Replace 0 values with MLB Average\n",
    "# Normalized G1\n",
    "n1 = [[G1[i][j] / sum(G1[i]) if sum(G1[i]) != 0 else MLB_AVG[i][j] for j in range(25)] for i in range(24)]\n",
    "n1 = np.array(n1)\n",
    "\n",
    "# Normalized G2\n",
    "n2 = [[G2[i][j] / sum(G2[i]) if sum(G2[i]) != 0 else MLB_AVG[i][j] for j in range(25)] for i in range(24)]\n",
    "n2 = np.array(n2)"
   ]
  },
  {
   "cell_type": "code",
   "execution_count": 182,
   "metadata": {},
   "outputs": [
    {
     "name": "stdout",
     "output_type": "stream",
     "text": [
      "First Row of Transition Matrix 1:\n",
      "[0.00490196 0.25       0.06372549 0.         0.01960784 0.\n",
      " 0.         0.         0.66176471 0.         0.         0.\n",
      " 0.         0.         0.         0.         0.         0.\n",
      " 0.         0.         0.         0.         0.         0.\n",
      " 0.        ]\n",
      "\n",
      "First Row of Transition Matrix 2:\n",
      "[0.01219512 0.29268293 0.08536585 0.         0.03658537 0.\n",
      " 0.         0.         0.57317073 0.         0.         0.\n",
      " 0.         0.         0.         0.         0.         0.\n",
      " 0.         0.         0.         0.         0.         0.\n",
      " 0.        ]\n"
     ]
    }
   ],
   "source": [
    "print(\"First Row of Transition Matrix 1:\")\n",
    "print(n1[0])\n",
    "\n",
    "print()\n",
    "print(\"First Row of Transition Matrix 2:\")\n",
    "print(n2[0])"
   ]
  },
  {
   "cell_type": "markdown",
   "metadata": {},
   "source": [
    "#### PART 4-6 CODE"
   ]
  },
  {
   "cell_type": "code",
   "execution_count": 183,
   "metadata": {},
   "outputs": [
    {
     "name": "stdout",
     "output_type": "stream",
     "text": [
      "Exception:  ['', '000 0', '000 1', '000 2', '001 0', '001 1', '001 2', '010 0', '010 1', '010 2', '011 0', '011 1', '011 2', '100 0', '100 1', '100 2', '101 0', '101 1', '101 2', '110 0', '110 1', '110 2', '111 0', '111 1', '111 2', '']\n"
     ]
    }
   ],
   "source": [
    "RUNS = np.zeros((24,25)) # RUNS Matrix\n",
    "with open(\"runs.csv\", mode=\"r\") as f:\n",
    "    lines = csv.reader(f)\n",
    "    r_num=-2\n",
    "\n",
    "    for l in lines:\n",
    "        try:\n",
    "            r_num+=1\n",
    "            RUNS[r_num] = [float(l[i]) for i in range(1,26)]\n",
    "        except Exception:\n",
    "            pass"
   ]
  },
  {
   "cell_type": "code",
   "execution_count": 321,
   "metadata": {},
   "outputs": [],
   "source": [
    "# lineup - list of transition matrices\n",
    "# total_games - number of games to simulate\n",
    "def batting_sim(lineup, total_games=162):\n",
    "    num_runs = 0\n",
    "    \n",
    "    for games in range(total_games): # simulate each game\n",
    "        curr_batter = 0\n",
    "\n",
    "        for inning in range(9):  # 9 innings\n",
    "            state = 0 # reset number of outs\n",
    "            nstate = 0\n",
    "\n",
    "            # print(str(inning) + \": \", num_runs)\n",
    "\n",
    "            while state != 24: # while not 3 outs\n",
    "                r = lineup[curr_batter][state]\n",
    "                nstate = next_state(r)\n",
    "\n",
    "                # Next Batter\n",
    "                if curr_batter == 8: curr_batter = 0\n",
    "                else: curr_batter += 1\n",
    "\n",
    "                # Update the Number of runs after state transition\n",
    "                num_runs += RUNS[state][nstate]\n",
    "                state = nstate\n",
    "\n",
    "    return num_runs/total_games\n",
    "\n",
    "# Returns the Next State given the Distribution\n",
    "def next_state(r):\n",
    "    p = np.random.rand(1)[0] # Get Probability\n",
    "    r = [sum(r[:i]) for i in range(1,26)] # CDF\n",
    "\n",
    "    for i in range(25):\n",
    "        if p <= round(r[i],2):\n",
    "            return i\n",
    "\n",
    "# Compares Lineups\n",
    "def compare(lineup1, lineup2, N=100):\n",
    "    l1 = sum(batting_sim(lineup1) for i in range(N))/N # Simulate N times and average the number of runs scored/drive over the N seasons\n",
    "    l2 = sum(batting_sim(lineup2) for i in range(N))/N # Simulate N times and average the number of runs scored/drive over the N seasons\n",
    "\n",
    "    return((l1,l2))"
   ]
  },
  {
   "cell_type": "code",
   "execution_count": 319,
   "metadata": {},
   "outputs": [],
   "source": [
    "# Set Up Lineups\n",
    "\n",
    "lineup1, lineup2 = [0 for i in range(9)], [0 for i in range(9)] # initialize lists\n",
    "def get_matrix(path):\n",
    "    T = np.zeros((24,25))\n",
    "\n",
    "    with open(path, mode=\"r\") as f:\n",
    "        lines = csv.reader(f)\n",
    "        r_num=-2\n",
    "        for l in lines:\n",
    "            try:\n",
    "                r_num+=1\n",
    "                T[r_num] = [float(l[i]) for i in range(1,26)]\n",
    "            except Exception: \n",
    "                pass\n",
    "\n",
    "    for i in range(24):\n",
    "        if sum(T[i]) == 0:\n",
    "            T[i] = MLB_AVG[i]\n",
    "        else:\n",
    "            T[i] = T[i]/sum(T[i])\n",
    "\n",
    "                \n",
    "\n",
    "    return np.array(T)\n",
    "\n",
    "lineup1 = [get_matrix(\"mhaniger.csv\"),get_matrix(\"jsegura.csv\"),get_matrix(\"rcano.csv\"),get_matrix(\"ncruz.csv\"),get_matrix(\"kseager.csv\"),get_matrix(\"rhealy.csv\"), \n",
    "    get_matrix(\"dspan.csv\"), get_matrix(\"mzunino.csv\"), n1]\n",
    "\n",
    "lineup2 = [get_matrix(\"mhaniger.csv\"),get_matrix(\"jsegura.csv\"),get_matrix(\"rcano.csv\"),get_matrix(\"ncruz.csv\"),get_matrix(\"dspan.csv\"),get_matrix(\"kseager.csv\"), n2,\n",
    "    get_matrix(\"mzunino.csv\"), get_matrix(\"rhealy.csv\")]"
   ]
  },
  {
   "cell_type": "code",
   "execution_count": 322,
   "metadata": {},
   "outputs": [
    {
     "data": {
      "text/plain": [
       "(7.640555555555558, 8.552654320987651)"
      ]
     },
     "execution_count": 322,
     "metadata": {},
     "output_type": "execute_result"
    }
   ],
   "source": [
    "compare(lineup1, lineup2)"
   ]
  }
 ],
 "metadata": {
  "kernelspec": {
   "display_name": "Python 3.9.12 ('base')",
   "language": "python",
   "name": "python3"
  },
  "language_info": {
   "codemirror_mode": {
    "name": "ipython",
    "version": 3
   },
   "file_extension": ".py",
   "mimetype": "text/x-python",
   "name": "python",
   "nbconvert_exporter": "python",
   "pygments_lexer": "ipython3",
   "version": "3.9.12"
  },
  "orig_nbformat": 4,
  "vscode": {
   "interpreter": {
    "hash": "e3f058019491b5a987a146e2cbdf9c3254eb932582dd8a90e9955176c2995d91"
   }
  }
 },
 "nbformat": 4,
 "nbformat_minor": 2
}
