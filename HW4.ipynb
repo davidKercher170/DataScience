{
 "cells": [
  {
   "cell_type": "code",
   "execution_count": 4,
   "metadata": {},
   "outputs": [
    {
     "name": "stdout",
     "output_type": "stream",
     "text": [
      "-------\n",
      "Problem 1\n",
      "\n",
      "1-Norm\n",
      "0:  1-Norm: 769.594 --- 2-Norm: 256.614\n",
      "1:  1-Norm: 98.87 --- 2-Norm: 35.775\n",
      "2:  1-Norm: 26.2 --- 2-Norm: 11.835\n",
      "3:  1-Norm: 25.894 --- 2-Norm: 12.211\n",
      "4:  1-Norm: 22.851 --- 2-Norm: 9.859\n",
      "5:  1-Norm: 21.291 --- 2-Norm: 10.208\n",
      "6:  1-Norm: 21.164 --- 2-Norm: 10.934\n",
      "7:  1-Norm: 10.689 --- 2-Norm: 6.597\n",
      "8:  1-Norm: 8.476 --- 2-Norm: 5.935\n",
      "9:  1-Norm: 7.638 --- 2-Norm: 5.41\n",
      "10:  1-Norm: 1.634 --- 2-Norm: 1.634\n",
      "\n",
      "Inf-Norm\n",
      "0:  inf-Norm: 116.376 --- 2-Norm: 259.892\n",
      "1:  inf-Norm: 15.547 --- 2-Norm: 34.865\n",
      "2:  inf-Norm: 4.247 --- 2-Norm: 11.039\n",
      "3:  inf-Norm: 4.223 --- 2-Norm: 11.437\n",
      "4:  inf-Norm: 3.741 --- 2-Norm: 10.447\n",
      "5:  inf-Norm: 3.078 --- 2-Norm: 9.471\n",
      "6:  inf-Norm: 2.953 --- 2-Norm: 9.369\n",
      "7:  inf-Norm: 2.249 --- 2-Norm: 7.224\n",
      "8:  inf-Norm: 1.797 --- 2-Norm: 5.731\n",
      "9:  inf-Norm: 1.455 --- 2-Norm: 4.607\n",
      "10:  inf-Norm: 0.424 --- 2-Norm: 1.403\n"
     ]
    }
   ],
   "source": [
    "import numpy as np\n",
    "import cvxpy as cp\n",
    "import math\n",
    "from scipy.optimize import fmin\n",
    "\n",
    "times = [1900, 1910, 1920,1930,1940,1950,1960,1970,1980,1990,2000,2010]\n",
    "times = [i for i in range(12)]\n",
    "b = [75.995, 91.972, 105.711, 123.203, 131.669, 150.697, 179.323, 203.212, 226.505, \n",
    "249.633, 281.422, 308.746]\n",
    "\n",
    "times = np.array(times)\n",
    "b = np.array(b)\n",
    "\n",
    "print(\"-------\")\n",
    "print(\"Problem 1\")\n",
    "print()\n",
    "\n",
    "def A(T,N):\n",
    "    A = [[t**i for i in range(N)] for t in T]\n",
    "    return np.array(A)\n",
    "\n",
    "print(\"1-Norm\")\n",
    "for n in range(1,12):\n",
    "    B = A(times,n)\n",
    "    x = cp.Variable(n)\n",
    "    \n",
    "    cost = cp.norm(B@x - b, p=1)\n",
    "    prob = cp.Problem(cp.Minimize(cost))\n",
    "    prob.solve()\n",
    "\n",
    "    print(str(n-1) + \":  1-Norm: \" + str(round(cp.norm(B@x - b,p=1).value,3)) + \" --- 2-Norm: \" + str(round(cp.norm(B@x - b,p=2).value,3)))\n",
    "\n",
    "print()\n",
    "print(\"Inf-Norm\")\n",
    "for n in range(1,12):\n",
    "    B = A(times,n)\n",
    "    x = cp.Variable(n)\n",
    "    \n",
    "    cost = cp.norm(B@x - b, p=\"inf\")\n",
    "    prob = cp.Problem(cp.Minimize(cost))\n",
    "    prob.solve()\n",
    "\n",
    "    print(str(n-1) + \":  inf-Norm: \" + str(round(cp.norm(B@x - b,p=\"inf\").value,3)) + \" --- 2-Norm: \" + str(round(cp.norm(B@x - b,p=2).value,3)))"
   ]
  },
  {
   "cell_type": "markdown",
   "metadata": {},
   "source": [
    "Description (for the work above): The 1 and infinity norms follow the 2-norm error closely. The lowest error was at degree 10 (which is to be expected) for all 3 norms."
   ]
  },
  {
   "cell_type": "code",
   "execution_count": 33,
   "metadata": {},
   "outputs": [
    {
     "name": "stdout",
     "output_type": "stream",
     "text": [
      "\n",
      "Part C: Leave-One-Out Error\n"
     ]
    },
    {
     "data": {
      "text/plain": [
       "[<matplotlib.lines.Line2D at 0x1e4aadf88b0>]"
      ]
     },
     "execution_count": 33,
     "metadata": {},
     "output_type": "execute_result"
    },
    {
     "data": {
      "image/png": "[encoded data removed]",
      "text/plain": [
       "<Figure size 432x288 with 1 Axes>"
      ]
     },
     "metadata": {
      "needs_background": "light"
     },
     "output_type": "display_data"
    }
   ],
   "source": [
    "from scipy.optimize import minimize, root\n",
    "import matplotlib.pyplot as plt\n",
    "\n",
    "print()\n",
    "print(\"Part C: Leave-One-Out Error\")\n",
    "\n",
    "times = [1900, 1910, 1920,1930,1940,1950,1960,1970,1980,1990,2000,2010]\n",
    "times = [i for i in range(12)]\n",
    "b = [75.995, 91.972, 105.711, 123.203, 131.669, 150.697, 179.323, 203.212, 226.505, \n",
    "249.633, 281.422, 308.746]\n",
    "x_vals = []\n",
    "\n",
    "for d in range(len(b)):\n",
    "    times = [times[i] if i != d else 0 for i in range(12)]\n",
    "    b = [b[i] if i != d else 0 for i in range(12)]\n",
    "    \n",
    "    B = A(times,12)\n",
    "    x = cp.Variable(12)\n",
    "    cost = cp.norm(B@x - b, p=\"inf\")\n",
    "    prob = cp.Problem(cp.Minimize(cost))\n",
    "    prob.solve()\n",
    "\n",
    "    x_vals.append(x.value)\n",
    "\n",
    "\n",
    "l_vals = np.linspace(-0.01, 0.1,2000)\n",
    "n_vals = []\n",
    "for l in l_vals:\n",
    "    n = 0\n",
    "    for x in x_vals:\n",
    "        n += abs(np.linalg.norm(B@x-b, ord=2)**2 + l*np.linalg.norm(x,ord=1))\n",
    "    n_vals.append(n/2000)\n",
    "\n",
    "plt.plot(l_vals,n_vals)"
   ]
  },
  {
   "cell_type": "code",
   "execution_count": 14,
   "metadata": {},
   "outputs": [
    {
     "name": "stdout",
     "output_type": "stream",
     "text": [
      "-------\n",
      "Problem 2, Part a\n",
      "\n",
      "   direc: array([[-2.70827464e-01,  4.05727538e-01,  1.01960361e+00],\n",
      "       [-4.80805233e-02,  4.79662872e-01, -4.97176916e+00],\n",
      "       [-4.58989348e-04,  3.68191841e-03, -5.43423745e-02]])\n",
      "     fun: 0.08055433729963207\n",
      " message: 'Optimization terminated successfully.'\n",
      "    nfev: 251\n",
      "     nit: 6\n",
      "  status: 0\n",
      " success: True\n",
      "       x: array([ 0.47378861,  2.24119794, -1.45718831])\n"
     ]
    }
   ],
   "source": [
    "from scipy.optimize import minimize, root\n",
    "\n",
    "\n",
    "print(\"-------\")\n",
    "print(\"Problem 2, Part a\")\n",
    "print()\n",
    "\n",
    "def f(theta):\n",
    "    x_1 = theta[0]*theta[2] + theta[1]*u[0]\n",
    "    x_2 = theta[0]*x_1 + theta[1]*u[1]\n",
    "    x_3 = theta[0]*x_2 + theta[1]*u[2]\n",
    "    x_4 = theta[0]*x_3 + theta[1]*u[3]\n",
    "    x = np.array([x_1-y[0],x_2-y[1],x_3-y[2],x_4-y[3]])\n",
    "    \n",
    "    return np.linalg.norm(x)\n",
    "\n",
    "\n",
    "u = np.array([5, 2, 0, 1])\n",
    "y  = np.array([10.5, 9.5, 4.51, 4.3])\n",
    "\n",
    "theta = minimize(f,[1,1,1],method='powell')\n",
    "print(theta)"
   ]
  },
  {
   "cell_type": "markdown",
   "metadata": {},
   "source": [
    "From above yields values:\n",
    "\n",
    "a = 0.474\n",
    "\n",
    "b = 2.24\n",
    "\n",
    "x_0 = -1.457"
   ]
  },
  {
   "cell_type": "code",
   "execution_count": 10,
   "metadata": {},
   "outputs": [
    {
     "name": "stdout",
     "output_type": "stream",
     "text": [
      "-------\n",
      "Problem 3, Part c\n",
      "\n"
     ]
    },
    {
     "name": "stderr",
     "output_type": "stream",
     "text": [
      "C:\\Users\\davee\\AppData\\Local\\Temp\\ipykernel_2208\\3975664844.py:31: RuntimeWarning: invalid value encountered in matmul\n",
      "  g = np.array([(p@x_0) for p in phi])\n"
     ]
    },
    {
     "data": {
      "text/plain": [
       " active_mask: array([0, 0, 0, 0, 0])\n",
       "        cost: 26451.25794823645\n",
       "         fun: array([150.71218431, 171.65570494,  10.97269659,  16.45682041,\n",
       "        18.20564063])\n",
       "        grad: array([    60.66388159,   -969.03103578, -15578.03840278, -20613.32322988,\n",
       "        30061.29259625])\n",
       "         jac: array([[ 0.00000000e+00,  0.00000000e+00,  0.00000000e+00,\n",
       "         0.00000000e+00,  0.00000000e+00],\n",
       "       [ 3.29129554e-01, -5.25744052e+00,  0.00000000e+00,\n",
       "         0.00000000e+00,  0.00000000e+00],\n",
       "       [-4.27625994e-02,  6.83083061e-01,  9.03915766e+03,\n",
       "         4.18782425e+04, -2.49437528e+05],\n",
       "       [-2.34035843e-01,  3.73843799e+00, -2.09313166e+05,\n",
       "        -1.19230263e+05,  2.15028329e+05],\n",
       "       [ 4.66208418e-01, -7.44711188e+00,  1.82903051e+05,\n",
       "         8.14044661e+04, -4.23835118e+04]])\n",
       "     message: '`xtol` termination condition is satisfied.'\n",
       "        nfev: 85\n",
       "        njev: None\n",
       "  optimality: 30061.292596247047\n",
       "      status: 3\n",
       "     success: True\n",
       "           x: array([ 4.53060116e+01,  2.83627505e+00, -9.22125366e-05,  1.26331439e-04,\n",
       "       -2.34619586e-05])"
      ]
     },
     "execution_count": 10,
     "metadata": {},
     "output_type": "execute_result"
    }
   ],
   "source": [
    "from scipy.optimize import least_squares\n",
    "\n",
    "print(\"-------\")\n",
    "print(\"Problem 3, Part c\")\n",
    "print()\n",
    "\n",
    "import scipy.linalg as spla\n",
    "from scipy.optimize import minimize, root\n",
    "\n",
    "y = np.array([[88.35, 7.3, 2.3, 0.4, 1.75], \n",
    "[76.4, 15.6, 4.5, 0.7, 2.8], \n",
    "[65.1, 23.1, 5.3, 1.1, 5.8], \n",
    "[50.4, 32.9, 6.0, 1.5, 9.3], \n",
    "[37.5, 42.7, 6.0, 1.9, 12.0], \n",
    "[25.9, 49.1, 5.9, 2.2, 17.0], \n",
    "[14.0, 57.4, 5.1, 2.6, 21.0], \n",
    "[4.5, 63.1, 3.8, 2.9, 25.7]])\n",
    "t = [1230.0, 3060.0, 4920.0, 7800.0, 10680.0, 15030.0, 22620.0, 36420.0]\n",
    "x_0 = np.array([100,0,0,0,0])\n",
    "\n",
    "def A_matrix(theta):\n",
    "    A = [[-1*(theta[0] + theta[1]),0,0,0,0], \n",
    "    [theta[0], 0,0,0,0],\n",
    "    [theta[1], 0,-1*(theta[2]+theta[3]),0,theta[4]],\n",
    "    [0,0, theta[2],0,0],\n",
    "    [0,0,theta[3],0,-1*theta[4]]]\n",
    "    return np.array(A)\n",
    "\n",
    "def exp(theta):\n",
    "    phi = np.array([spla.expm(A_matrix(theta) * t_i) for t_i in t])\n",
    "    g = np.array([(p@x_0) for p in phi])\n",
    "    C = [np.linalg.norm([y[i][j] - g[i][j] for i in range(len(g))],ord=2) for j in range(len(g[0]))]\n",
    "    return C\n",
    "\n",
    "least_squares(exp, x_0, method=\"lm\")\n",
    "\n"
   ]
  },
  {
   "cell_type": "markdown",
   "metadata": {},
   "source": [
    "Unfortunately I could not get the method above to work properly. I tried many, many different approaches with both cvxpy and scipy. I do believe the idea is formulated correctly."
   ]
  },
  {
   "cell_type": "code",
   "execution_count": 9,
   "metadata": {},
   "outputs": [
    {
     "name": "stdout",
     "output_type": "stream",
     "text": [
      "-------\n",
      "Problem 6\n",
      "\n",
      "0: Train Error: 2.7274 --- Test Error: 1.2401\n",
      "Bias Squared:  0.19801549601093224\n",
      "Variance:  0.0\n",
      "1: Train Error: 0.6585 --- Test Error: 0.2976\n",
      "Bias Squared:  0.001163304189508706\n",
      "Variance:  0.3963088320289178\n",
      "2: Train Error: 0.4158 --- Test Error: 0.2298\n",
      "Bias Squared:  0.0007919537997041267\n",
      "Variance:  0.3371060043919306\n",
      "3: Train Error: 0.3952 --- Test Error: 0.2384\n",
      "Bias Squared:  0.0007828596560050898\n",
      "Variance:  0.3247330664855823\n",
      "4: Train Error: 0.3805 --- Test Error: 0.2301\n",
      "Bias Squared:  0.0009471387670305198\n",
      "Variance:  0.3142158502235272\n",
      "5: Train Error: 0.3638 --- Test Error: 0.2424\n",
      "Bias Squared:  0.0010864864889515726\n",
      "Variance:  0.3136025367619151\n",
      "6: Train Error: 0.3554 --- Test Error: 0.2571\n",
      "Bias Squared:  0.0011387237654304086\n",
      "Variance:  0.3483651399929112\n",
      "7: Train Error: 0.3408 --- Test Error: 0.2786\n",
      "Bias Squared:  0.0014420598716243856\n",
      "Variance:  0.37932627494009286\n",
      "8: Train Error: 0.3297 --- Test Error: 0.291\n",
      "Bias Squared:  0.0017546085163993293\n",
      "Variance:  0.2723083870700254\n",
      "9: Train Error: 0.3054 --- Test Error: 0.2884\n",
      "Bias Squared:  0.0018141047197234646\n",
      "Variance:  0.30400304244684245\n",
      "10: Train Error: 0.2904 --- Test Error: 0.3223\n",
      "Bias Squared:  0.0020586959958436824\n",
      "Variance:  0.43331787648617887\n",
      "11: Train Error: 0.2751 --- Test Error: 0.4592\n",
      "Bias Squared:  0.005569885588060401\n",
      "Variance:  0.3488967409636879\n",
      "12: Train Error: 0.2523 --- Test Error: 0.7376\n",
      "Bias Squared:  0.021793266499579717\n",
      "Variance:  0.2758874252743809\n",
      "13: Train Error: 0.2355 --- Test Error: 1.4645\n",
      "Bias Squared:  0.11712281046901553\n",
      "Variance:  0.4135953253855161\n",
      "14: Train Error: 0.2149 --- Test Error: 2.146\n",
      "Bias Squared:  0.26808290088390496\n",
      "Variance:  0.5968883563716227\n",
      "15: Train Error: 0.1851 --- Test Error: 6.333\n",
      "Bias Squared:  2.5075783081567105\n",
      "Variance:  4.673603326199224\n",
      "16: Train Error: 0.1583 --- Test Error: 10.8932\n",
      "Bias Squared:  7.594660110406357\n",
      "Variance:  2.4527221837505437\n",
      "17: Train Error: 0.125 --- Test Error: 33.0089\n",
      "Bias Squared:  68.10579388133998\n",
      "Variance:  3.4164534538165063\n",
      "18: Train Error: 0.0793 --- Test Error: 179.3388\n",
      "Bias Squared:  2012.732342063327\n",
      "Variance:  31.930510787996877\n",
      "19: Train Error: 0.0 --- Test Error: 373.7144\n",
      "Bias Squared:  8675.168467887366\n",
      "Variance:  135.02620715457147\n"
     ]
    }
   ],
   "source": [
    "print(\"-------\")\n",
    "print(\"Problem 6\")\n",
    "print()\n",
    "\n",
    "# set up function and data\n",
    "f = lambda t: math.exp(-1*t)\n",
    "alt_f = lambda t: math.sin(12*t)\n",
    "t = np.random.uniform(-1,1,25)\n",
    "# partition data into training and validation sets\n",
    "ry = [f(t[i]) for i in range(25)]\n",
    "\n",
    "def A(times,m2=2,m1=0):\n",
    "    B =  [[t**i for i in range(m1,m2)] for t in times]\n",
    "    return np.array(B)\n",
    "\n",
    "def bias(x_hat, x):\n",
    "    return np.mean(x_hat-x,axis=0)\n",
    "\n",
    "def exp_error(x_hat,x):\n",
    "    return np.mean((x-x_hat)**2, axis=0)\n",
    "\n",
    "\n",
    "for N in range(1,21):\n",
    "    train_error = 0\n",
    "    test_error = 0\n",
    "    errors = []\n",
    "    bias_squared = 0\n",
    "\n",
    "    for k in range(1000):\n",
    "        e = np.random.normal(0,.1,25)\n",
    "        y = [f(t[i]) + e[i] for i in range(25)]\n",
    "        y_train, y_test = y[:20], y[20:]\n",
    "        t_train, t_test = t[:20], t[20:]\n",
    "\n",
    "        B_train = A(t_train,N)\n",
    "        theta, err = np.linalg.lstsq(B_train,y_train, rcond=1)[:2]\n",
    "\n",
    "        B_test = A(t_test, N)\n",
    "        train_error += np.linalg.norm(B_train@theta - y_train)\n",
    "\n",
    "        pred_val = B_test@theta\n",
    "        test_error += np.linalg.norm(pred_val - y_test)\n",
    "        errors.append(test_error)\n",
    "\n",
    "        bias_squared += bias(pred_val, ry[20:])**2\n",
    "\n",
    "    print(str(N-1) + \": Train Error: \" + str(round(train_error/1000,4)) + \" --- Test Error: \" + str(round(test_error/1000,4)))\n",
    "    print(\"Bias Squared: \", bias_squared/1000)\n",
    "    print(\"Variance: \", np.std(pred_val))\n"
   ]
  },
  {
   "cell_type": "code",
   "execution_count": null,
   "metadata": {},
   "outputs": [],
   "source": []
  }
 ],
 "metadata": {
  "kernelspec": {
   "display_name": "Python 3.9.12 ('base')",
   "language": "python",
   "name": "python3"
  },
  "language_info": {
   "codemirror_mode": {
    "name": "ipython",
    "version": 3
   },
   "file_extension": ".py",
   "mimetype": "text/x-python",
   "name": "python",
   "nbconvert_exporter": "python",
   "pygments_lexer": "ipython3",
   "version": "3.9.12"
  },
  "orig_nbformat": 4,
  "vscode": {
   "interpreter": {
    "hash": "e3f058019491b5a987a146e2cbdf9c3254eb932582dd8a90e9955176c2995d91"
   }
  }
 },
 "nbformat": 4,
 "nbformat_minor": 2
}
